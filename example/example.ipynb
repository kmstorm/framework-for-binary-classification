{
 "cells": [
  {
   "attachments": {},
   "cell_type": "markdown",
   "metadata": {},
   "source": [
    "## Handling imports"
   ]
  },
  {
   "cell_type": "code",
   "execution_count": null,
   "metadata": {},
   "outputs": [],
   "source": [
    "import sys\n",
    "import os\n",
    "sys.path.append(os.path.abspath('../'))\n",
    "from main import train_and_evaluate_model, evaluate_model, detect_outliers\n",
    "import pandas as pd\n",
    "import numpy as np\n",
    "import matplotlib.pyplot as plt\n",
    "import warnings\n",
    "warnings.filterwarnings(action='ignore')"
   ]
  },
  {
   "attachments": {},
   "cell_type": "markdown",
   "metadata": {},
   "source": [
    "## Outlier detection\n",
    "To run the outlier detection we are calling the `detect_outliers` function, specifying the path to our dataset and the path to the folder, where the results will be saved\n",
    "\n",
    "The result will be a csv with the samples, that the algorithm detected as possible outliers; and a plot visualizing these samples using MDS projection"
   ]
  },
  {
   "cell_type": "code",
   "execution_count": null,
   "metadata": {},
   "outputs": [],
   "source": [
    "%matplotlib notebook\n",
    "data_path = 'example_data.csv'\n",
    "target_folder = 'example_results/outliers'\n",
    "outliers = detect_outliers(data_path=data_path,\n",
    "                target_folder='example_results/outliers')"
   ]
  },
  {
   "attachments": {},
   "cell_type": "markdown",
   "metadata": {},
   "source": [
    "#### Printing and visualizing the outliers\n",
    "The outlier samples and visualization polt is saved under the previously defined target folder as `posssible_outliers.csv` and `outlier_visualized.png` respectively\n",
    "\n",
    "***Note:** For some samples it may not be trivial why they were or weren't classified as an outlier just by looking at the visualization. It is due to the fact that the outlier detection algorithm is run on the high dimensional input data, while for the visualzation this data is projected to a 2D plane, for which it is inevitable to lose some information.*"
   ]
  },
  {
   "cell_type": "code",
   "execution_count": null,
   "metadata": {},
   "outputs": [],
   "source": [
    "outliers"
   ]
  },
  {
   "cell_type": "code",
   "execution_count": null,
   "metadata": {},
   "outputs": [],
   "source": [
    "plot = plt.imread(os.path.join(target_folder, 'outliers_visualized.png'))\n",
    "plt.axis('off')\n",
    "plt.imshow(plot)"
   ]
  },
  {
   "attachments": {},
   "cell_type": "markdown",
   "metadata": {},
   "source": [
    "## Training and evaluating\n",
    "Training a new model can be done by calling the `train_and_evaluate_model` function, specifying the path to the dataset, configuration file, and the target folder. Feature importances can also be calculated with this function."
   ]
  },
  {
   "cell_type": "code",
   "execution_count": null,
   "metadata": {},
   "outputs": [],
   "source": [
    "data_path = 'example_data.csv'\n",
    "target_folder = 'example_results/train'\n",
    "config_path = 'config.yaml'\n",
    "res = train_and_evaluate_model(data_path=data_path,\n",
    "                         config_path=config_path,\n",
    "                         target_folder=target_folder,\n",
    "                         calculate_feature_importances=True)"
   ]
  },
  {
   "attachments": {},
   "cell_type": "markdown",
   "metadata": {},
   "source": [
    "#### Printing the results and the plots\n",
    "Calling the function returns the corss validated metrics with a 95% confidence interval. It is also saved as a csv in the target folder as `cross_val_result.csv`"
   ]
  },
  {
   "cell_type": "code",
   "execution_count": null,
   "metadata": {},
   "outputs": [],
   "source": [
    "res"
   ]
  },
  {
   "attachments": {},
   "cell_type": "markdown",
   "metadata": {},
   "source": [
    "The ROC and the PR curve is saved in the target folder as `test_result_roc_curve.png` and `test_result_pr_curve.png` respectively."
   ]
  },
  {
   "cell_type": "code",
   "execution_count": null,
   "metadata": {},
   "outputs": [],
   "source": [
    "%matplotlib inline \n",
    "roc = plt.imread(os.path.join(target_folder, 'test_result_roc_curve.png'))\n",
    "plt.axis('off')\n",
    "plt.imshow(roc)"
   ]
  },
  {
   "cell_type": "code",
   "execution_count": null,
   "metadata": {},
   "outputs": [],
   "source": [
    "pr = plt.imread(os.path.join(target_folder, 'test_result_pr_curve.png'))\n",
    "plt.axis('off')\n",
    "plt.imshow(pr)"
   ]
  },
  {
   "attachments": {},
   "cell_type": "markdown",
   "metadata": {},
   "source": [
    "#### Feature importances\n",
    "The importance values (i.e. the absolute mean SHAP values) for each features are saved in the targetfolder as `feature_importances.csv`"
   ]
  },
  {
   "cell_type": "code",
   "execution_count": null,
   "metadata": {},
   "outputs": [],
   "source": [
    "pd.read_csv(os.path.join(target_folder, 'feature_importances.csv'), index_col=0)"
   ]
  },
  {
   "attachments": {},
   "cell_type": "markdown",
   "metadata": {},
   "source": [
    "In addition a plot is created in the target folder to better visualize these values"
   ]
  },
  {
   "cell_type": "code",
   "execution_count": null,
   "metadata": {},
   "outputs": [],
   "source": [
    "shap_plot = plt.imread(os.path.join(target_folder, 'feature_importances_plot.png'))\n",
    "plt.axis('off')\n",
    "plt.imshow(shap_plot)"
   ]
  },
  {
   "attachments": {},
   "cell_type": "markdown",
   "metadata": {},
   "source": [
    "## Evaluating a trained model on an external dataset\n",
    "Evaluating a trained model can be done by calling the `evaluate` function, specifying the path to the previously saved model, the dataset, configuration file, and the target folder, as well as the name of the target feature that is to be predicted. Feature importances can also be calculated with this function.\n",
    "\n",
    "***Note:** for the sake of simplicity, to demonstrate the use of this feature we are running the evaluation on the data that the model was trained on. However, when used in a real setting this feature should only be used on a different data*"
   ]
  },
  {
   "cell_type": "code",
   "execution_count": null,
   "metadata": {},
   "outputs": [],
   "source": [
    "%matplotlib notebook\n",
    "data_path = 'example_data.csv'\n",
    "model_path = 'example_results/train/model.pickle'\n",
    "target_folder = 'example_results/eval'\n",
    "target_column = 'Death'\n",
    "res_eval = evaluate_model(model_path=model_path,\n",
    "                          data_path=data_path,\n",
    "                          target_column=target_column,\n",
    "                          target_folder=target_folder,\n",
    "                          calculate_feature_importances=False)"
   ]
  },
  {
   "attachments": {},
   "cell_type": "markdown",
   "metadata": {},
   "source": [
    "#### Printing the results and the plots\n",
    "Calling the function returns the resulting metrics. In addition, it is also saved as a csv in the target folder as `test_result.csv`"
   ]
  },
  {
   "cell_type": "code",
   "execution_count": null,
   "metadata": {},
   "outputs": [],
   "source": [
    "res_eval"
   ]
  },
  {
   "cell_type": "code",
   "execution_count": null,
   "metadata": {},
   "outputs": [],
   "source": [
    "%matplotlib inline \n",
    "roc = plt.imread(os.path.join(target_folder, 'test_result_roc_curve.png'))\n",
    "plt.axis('off')\n",
    "plt.imshow(roc)"
   ]
  },
  {
   "cell_type": "code",
   "execution_count": null,
   "metadata": {},
   "outputs": [],
   "source": [
    "pr = plt.imread(os.path.join(target_folder, 'test_result_pr_curve.png'))\n",
    "plt.axis('off')\n",
    "plt.imshow(pr)"
   ]
  },
  {
   "cell_type": "code",
   "execution_count": null,
   "metadata": {},
   "outputs": [],
   "source": []
  }
 ],
 "metadata": {
  "kernelspec": {
   "display_name": "vtml",
   "language": "python",
   "name": "python3"
  },
  "language_info": {
   "codemirror_mode": {
    "name": "ipython",
    "version": 3
   },
   "file_extension": ".py",
   "mimetype": "text/x-python",
   "name": "python",
   "nbconvert_exporter": "python",
   "pygments_lexer": "ipython3",
   "version": "3.9.10"
  },
  "orig_nbformat": 4,
  "vscode": {
   "interpreter": {
    "hash": "5f8ad5932b07c802bce52d998e2c50e960c3a4292b92e0f7f42ee846519f5480"
   }
  }
 },
 "nbformat": 4,
 "nbformat_minor": 2
}
