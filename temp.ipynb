{
 "cells": [
  {
   "cell_type": "code",
   "execution_count": 13,
   "id": "initial_id",
   "metadata": {
    "collapsed": true
   },
   "outputs": [],
   "source": [
    "import os\n",
    "import shutil\n",
    "import numpy as np\n",
    "import pandas as pd\n",
    "import matplotlib.pylab as plt\n",
    "import dill\n",
    "from sys import argv\n",
    "from sklearn.manifold import MDS\n",
    "from sklearn.metrics import PrecisionRecallDisplay, RocCurveDisplay, roc_curve\n",
    "\n",
    "from argparse import ArgumentParser\n",
    "import warnings\n",
    "from pathlib import Path\n",
    "\n",
    "from bio_data.bio_data_preprocess import BioDataPreprocess\n",
    "from model.cross_validated_model import CrossValidatedModel\n",
    "from model.feature_selection import FeatureSelectionCV\n",
    "import shap\n",
    "\n",
    "from sklearn.model_selection import GridSearchCV, StratifiedKFold\n",
    "from sklearn.utils.class_weight import compute_sample_weight\n",
    "\n",
    "import matplotlib.pyplot as plt\n",
    "\n",
    "from utils.utils import scores_with_optimal_cutoff, load_data, load_model, get_config, simplify_cross_val_result\n",
    "warnings.filterwarnings(\"ignore\")\n"
   ]
  },
  {
   "cell_type": "code",
   "execution_count": 2,
   "id": "6379789b",
   "metadata": {},
   "outputs": [],
   "source": [
    "config_path = Path('./params/config.yaml')\n",
    "data_path = '../data/tabular/coronal-REBLs.csv'\n",
    "augmentation_path = '../data/tabular/axial-REBLs.csv'"
   ]
  },
  {
   "cell_type": "code",
   "execution_count": 3,
   "id": "c1e8be67",
   "metadata": {},
   "outputs": [],
   "source": [
    "data = pd.read_csv(data_path)\n",
    "augmented_data = pd.read_csv(augmentation_path)"
   ]
  },
  {
   "cell_type": "code",
   "execution_count": 4,
   "metadata": {},
   "outputs": [],
   "source": [
    "config = get_config(config_path)\n",
    "param_grid = config['param_grid']"
   ]
  },
  {
   "cell_type": "code",
   "execution_count": 5,
   "id": "7dba262f",
   "metadata": {},
   "outputs": [
    {
     "data": {
      "text/plain": [
       "{'cv': 5,\n",
       " 'random_state': 0,\n",
       " 'n_jobs': 8,\n",
       " 'do_feature_selection': False,\n",
       " 'model_name': 'svc',\n",
       " 'base_model': CalibratedBinarySVC(cv=5, n_jobs=8),\n",
       " 'param_grid': {'classifier__kernel': ['rbf'],\n",
       "  'classifier__gamma': [0.1, 1, 10, 100],\n",
       "  'classifier__C': [0.01, 0.1, 1, 10]},\n",
       " 'balancing_method': 'null',\n",
       " 'weighted': False,\n",
       " 'preprocess': {'smote': False,\n",
       "  'target_column': 'Label',\n",
       "  'normalizer': 'standard',\n",
       "  'drop_threshold': 0.3,\n",
       "  'categorical_impute': 'external',\n",
       "  'real_impute': 'iterative'}}"
      ]
     },
     "execution_count": 5,
     "metadata": {},
     "output_type": "execute_result"
    }
   ],
   "source": [
    "config"
   ]
  },
  {
   "cell_type": "code",
   "execution_count": 6,
   "id": "bb44ef92",
   "metadata": {},
   "outputs": [
    {
     "name": "stdout",
     "output_type": "stream",
     "text": [
      "DONE\n"
     ]
    }
   ],
   "source": [
    "X, y, bigX, bigY, index_pairs, pipeline = BioDataPreprocess(data, augmented_data,\n",
    "\t\t\t\t\t\t\t\t\t\tbase_model=config['base_model'],\n",
    "\t\t\t\t\t\t\t\t\t\trandom_state=config['random_state'],\n",
    "\t\t\t\t\t\t\t\t\t\t**config['preprocess']).prerocess_and_create_pipeline()\n",
    "\t\t\t\t\t\t\t\t\t"
   ]
  },
  {
   "cell_type": "code",
   "execution_count": 7,
   "id": "538b0f5a",
   "metadata": {},
   "outputs": [
    {
     "name": "stdout",
     "output_type": "stream",
     "text": [
      "(92, 1197) (118, 1197)\n"
     ]
    }
   ],
   "source": [
    "print(X.shape, bigX.shape)"
   ]
  },
  {
   "cell_type": "code",
   "execution_count": 19,
   "id": "dc0b5df2",
   "metadata": {},
   "outputs": [
    {
     "name": "stdout",
     "output_type": "stream",
     "text": [
      "[(3, 98), (5, 114), (6, 112), (7, 96), (8, 92), (9, 103), (12, 115), (25, 106), (27, 104), (30, 110), (31, 107), (34, 101), (39, 97), (43, 108), (45, 94), (47, 99), (49, 113), (51, 111), (56, 116), (57, 102), (67, 105), (72, 95), (76, 109), (79, 100), (83, 117), (90, 93)]\n"
     ]
    }
   ],
   "source": [
    "cv = StratifiedKFold(n_splits=5, shuffle=True,random_state=42)\n",
    "print(index_pairs)"
   ]
  },
  {
   "cell_type": "code",
   "execution_count": 31,
   "id": "012ba87b",
   "metadata": {},
   "outputs": [
    {
     "name": "stdout",
     "output_type": "stream",
     "text": [
      "0 [ 2  3  7 10 14 18 20 23 28 29 33 51 58 66 69 72 78 83 87]\n",
      "1 [ 6  8 12 13 22 24 37 45 49 50 53 54 57 68 75 80 81 85 89]\n",
      "2 [16 17 21 25 30 32 36 39 44 52 59 62 63 71 73 79 84 90]\n",
      "3 [ 4  9 19 26 34 35 42 43 46 55 61 64 65 67 74 76 88 91]\n",
      "4 [ 0  1  5 11 15 27 31 38 40 41 47 48 56 60 70 77 82 86]\n"
     ]
    }
   ],
   "source": [
    "for i, (train, test) in enumerate(cv.split(X, y)):\n",
    "    for idx1, idx2 in index_pairs:\n",
    "        if idx1 in train:\n",
    "            train = np.append(train, idx2)\n",
    "\n",
    "    print(i, test)\n"
   ]
  }
 ],
 "metadata": {
  "kernelspec": {
   "display_name": "ml-pipeline",
   "language": "python",
   "name": "python3"
  },
  "language_info": {
   "codemirror_mode": {
    "name": "ipython",
    "version": 3
   },
   "file_extension": ".py",
   "mimetype": "text/x-python",
   "name": "python",
   "nbconvert_exporter": "python",
   "pygments_lexer": "ipython3",
   "version": "3.9.10"
  }
 },
 "nbformat": 4,
 "nbformat_minor": 5
}
